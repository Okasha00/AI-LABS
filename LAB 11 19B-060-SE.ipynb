{
 "cells": [
  {
   "cell_type": "code",
   "execution_count": 5,
   "id": "05c95b4f",
   "metadata": {},
   "outputs": [
    {
     "data": {
      "image/png": "[encoded data removed]",
      "text/plain": [
       "<Figure size 432x288 with 1 Axes>"
      ]
     },
     "metadata": {
      "needs_background": "light"
     },
     "output_type": "display_data"
    },
    {
     "data": {
      "image/png": "[encoded data removed]",
      "text/plain": [
       "<Figure size 432x288 with 1 Axes>"
      ]
     },
     "metadata": {
      "needs_background": "light"
     },
     "output_type": "display_data"
    }
   ],
   "source": [
    "#task1\n",
    "import numpy as np\n",
    "import matplotlib . pyplot as plot\n",
    "import pandas as pd\n",
    "from sklearn . model_selection import train_test_split\n",
    "from sklearn . linear_model import LinearRegression\n",
    "from sklearn import metrics\n",
    "\n",
    "\n",
    "dataset = pd.read_excel(r\"SalaryAge.xlsx\")\n",
    "x = dataset[\"YearsExperience\"].values.reshape( -1 ,1)\n",
    "y = dataset[\"Salary\"].values.reshape( -1 ,1)\n",
    "\n",
    "dataset.plot(x =\"YearsExperience\", y =\"Salary\", style =\"o\")\n",
    "plot.title(\"YearsExperience vs Salary \")\n",
    "plot.xlabel(\"YearsExperience\")\n",
    "plot.ylabel(\"Salary\")\n",
    "plot.show()\n",
    "\n",
    "xTrain , xTest , yTrain , yTest = train_test_split(x ,y, test_size =0.2, random_state = 0)\n",
    "linearRegressor = LinearRegression()\n",
    "linearRegressor.fit(xTrain , yTrain)\n",
    "\n",
    "yPrediction = linearRegressor.predict(xTest)\n",
    "yPrediction = pd.DataFrame({ \"Actual\": yTest.flatten() , \"Predict\":\n",
    "yPrediction.flatten()})\n",
    "\n",
    "plt.scatter( xTrain , yTrain , color = \"red\")\n",
    "plt.plot( xTrain , linearRegressor.predict(xTrain), color = \"blue\")\n",
    "plt.title(\"Salary vs Experience( Training set )\")\n",
    "plt.xlabel(\"Years of Experience\")\n",
    "plt.ylabel(\"Salary\")\n",
    "plt.show()\n",
    "\n",
    "\n",
    "\n",
    "\n"
   ]
  },
  {
   "cell_type": "code",
   "execution_count": 13,
   "id": "4ec9e90f",
   "metadata": {},
   "outputs": [
    {
     "name": "stdout",
     "output_type": "stream",
     "text": [
      "Index(['timestamp', 'Basel Temperature [2 m elevation corrected]',\n",
      "       'Basel Growing Degree Days [2 m elevation corrected]',\n",
      "       'Basel Wind Speed [10 m]', 'Basel Wind Direction [10 m]'],\n",
      "      dtype='object')\n",
      "          Actual     Predict\n",
      "0     323.130130  159.200765\n",
      "1     114.775140  140.390419\n",
      "2     342.349880  147.320634\n",
      "3     229.398710  163.582501\n",
      "4     300.256440  163.608228\n",
      "...          ...         ...\n",
      "2420  149.036240  161.570117\n",
      "2421   53.130096  133.929236\n",
      "2422  101.309930  151.188187\n",
      "2423  120.963745  125.688704\n",
      "2424  225.000000  187.370964\n",
      "\n",
      "[2425 rows x 2 columns]\n"
     ]
    }
   ],
   "source": [
    "#task2\n",
    "import numpy as np\n",
    "import pandas as pd\n",
    "from sklearn.model_selection import train_test_split\n",
    "from sklearn.linear_model import LinearRegression\n",
    "\n",
    "\n",
    "start_row = 2\n",
    "end_row = 12147\n",
    "dataset = pd.read_csv('weather.csv', nrows=(end_row - start_row + 1))\n",
    "print(dataset.columns)\n",
    "\n",
    "new_dataset = dataset.drop('timestamp', axis=1)\n",
    "new_dataset.dropna(inplace=True)\n",
    "new_dataset.fillna(new_dataset.mean(), inplace=True)\n",
    "X = new_dataset.drop('Basel Wind Direction [10 m]', axis=1)\n",
    "y = new_dataset['Basel Wind Direction [10 m]']\n",
    "\n",
    "xTrain, xTest, yTrain, yTest = train_test_split(X, y, test_size=0.2, random_state=0)\n",
    "\n",
    "linearRegressor = LinearRegression()\n",
    "linearRegressor.fit(xTrain, yTrain)\n",
    "\n",
    "yPrediction = linearRegressor.predict(xTest)\n",
    "\n",
    "yPrediction = pd.DataFrame({'Actual': yTest.values.flatten(), 'Predict': yPrediction.flatten()})\n",
    "print(yPrediction)"
   ]
  },
  {
   "cell_type": "code",
   "execution_count": 6,
   "id": "b2fdf06e",
   "metadata": {},
   "outputs": [
    {
     "name": "stderr",
     "output_type": "stream",
     "text": [
      "C:\\Users\\HC\\anaconda3\\lib\\site-packages\\sklearn\\utils\\deprecation.py:87: FutureWarning: Function load_boston is deprecated; `load_boston` is deprecated in 1.0 and will be removed in 1.2.\n",
      "\n",
      "    The Boston housing prices dataset has an ethical problem. You can refer to\n",
      "    the documentation of this function for further details.\n",
      "\n",
      "    The scikit-learn maintainers therefore strongly discourage the use of this\n",
      "    dataset unless the purpose of the code is to study and educate about\n",
      "    ethical issues in data science and machine learning.\n",
      "\n",
      "    In this special case, you can fetch the dataset from the original\n",
      "    source::\n",
      "\n",
      "        import pandas as pd\n",
      "        import numpy as np\n",
      "\n",
      "\n",
      "        data_url = \"http://lib.stat.cmu.edu/datasets/boston\"\n",
      "        raw_df = pd.read_csv(data_url, sep=\"\\s+\", skiprows=22, header=None)\n",
      "        data = np.hstack([raw_df.values[::2, :], raw_df.values[1::2, :2]])\n",
      "        target = raw_df.values[1::2, 2]\n",
      "\n",
      "    Alternative datasets include the California housing dataset (i.e.\n",
      "    :func:`~sklearn.datasets.fetch_california_housing`) and the Ames housing\n",
      "    dataset. You can load the datasets as follows::\n",
      "\n",
      "        from sklearn.datasets import fetch_california_housing\n",
      "        housing = fetch_california_housing()\n",
      "\n",
      "    for the California housing dataset and::\n",
      "\n",
      "        from sklearn.datasets import fetch_openml\n",
      "        housing = fetch_openml(name=\"house_prices\", as_frame=True)\n",
      "\n",
      "    for the Ames housing dataset.\n",
      "    \n",
      "  warnings.warn(msg, category=FutureWarning)\n"
     ]
    },
    {
     "name": "stdout",
     "output_type": "stream",
     "text": [
      "Mean Squared Error (MSE): 24.291119474973797\n",
      "Coefficient of Determination (R^2 Score): 0.6687594935356282\n"
     ]
    },
    {
     "data": {
      "image/png": "[encoded data removed]",
      "text/plain": [
       "<Figure size 432x288 with 1 Axes>"
      ]
     },
     "metadata": {
      "needs_background": "light"
     },
     "output_type": "display_data"
    }
   ],
   "source": [
    "#task3\n",
    "import pandas as pd\n",
    "from sklearn.datasets import load_boston\n",
    "from sklearn.linear_model import LinearRegression\n",
    "from sklearn.model_selection import train_test_split\n",
    "from sklearn.metrics import mean_squared_error, r2_score\n",
    "import matplotlib.pyplot as plt\n",
    "\n",
    "# Load the Boston Housing dataset\n",
    "boston = load_boston()\n",
    "\n",
    "# Convert the dataset to a DataFrame\n",
    "df = pd.DataFrame(data=boston.data, columns=boston.feature_names)\n",
    "df['target'] = boston.target\n",
    "\n",
    "# Split the dataset into features (X) and target (y)\n",
    "X = df.drop('target', axis=1)\n",
    "y = df['target']\n",
    "\n",
    "# Split the data into training and testing sets\n",
    "X_train, X_test, y_train, y_test = train_test_split(X, y, test_size=0.2, random_state=42)\n",
    "\n",
    "# Create a linear regression model\n",
    "model = LinearRegression()\n",
    "\n",
    "# Train the model on the training data\n",
    "model.fit(X_train, y_train)\n",
    "\n",
    "# Make predictions on the test data\n",
    "y_pred = model.predict(X_test)\n",
    "\n",
    "# Evaluate the model's performance\n",
    "mse = mean_squared_error(y_test, y_pred)\n",
    "r2 = r2_score(y_test, y_pred)\n",
    "\n",
    "# Print the evaluation metrics\n",
    "print(\"Mean Squared Error (MSE):\", mse)\n",
    "print(\"Coefficient of Determination (R^2 Score):\", r2)\n",
    "\n",
    "# Plot the actual vs predicted values\n",
    "plt.scatter(y_test, y_pred)\n",
    "plt.xlabel('Actual Values')\n",
    "plt.ylabel('Predicted Values')\n",
    "plt.title('Linear Regression - Actual vs Predicted')\n",
    "plt.show()\n"
   ]
  },
  {
   "cell_type": "code",
   "execution_count": null,
   "id": "6f93d43a",
   "metadata": {},
   "outputs": [],
   "source": []
  }
 ],
 "metadata": {
  "kernelspec": {
   "display_name": "Python 3 (ipykernel)",
   "language": "python",
   "name": "python3"
  },
  "language_info": {
   "codemirror_mode": {
    "name": "ipython",
    "version": 3
   },
   "file_extension": ".py",
   "mimetype": "text/x-python",
   "name": "python",
   "nbconvert_exporter": "python",
   "pygments_lexer": "ipython3",
   "version": "3.9.12"
  }
 },
 "nbformat": 4,
 "nbformat_minor": 5
}
