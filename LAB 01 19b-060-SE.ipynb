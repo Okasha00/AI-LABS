{
 "cells": [
  {
   "cell_type": "code",
   "execution_count": 1,
   "id": "74525c93",
   "metadata": {},
   "outputs": [
    {
     "data": {
      "text/plain": [
       "27"
      ]
     },
     "execution_count": 1,
     "metadata": {},
     "output_type": "execute_result"
    }
   ],
   "source": [
    "# TASK 1 \n",
    "# SUM OF ARRAY\n",
    "def Array(arr):\n",
    "    if len(arr)==1:\n",
    "        return arr[0]\n",
    "    else:\n",
    "        return arr[0]+Array(arr[1:])\n",
    "Array([1,2,5,6,2,11])"
   ]
  },
  {
   "cell_type": "code",
   "execution_count": 2,
   "id": "399f3350",
   "metadata": {},
   "outputs": [
    {
     "data": {
      "text/plain": [
       "[1, 8, 7, 6, 4, 5]"
      ]
     },
     "execution_count": 2,
     "metadata": {},
     "output_type": "execute_result"
    }
   ],
   "source": [
    "# TASK 2\n",
    "# PALINDROME, REVERSE\n",
    "def List(L):\n",
    "    if not L:\n",
    "        return []\n",
    "    return [L[-1]] + List(L[:-1])\n",
    "List([5,4,6,7,8,1])"
   ]
  },
  {
   "cell_type": "code",
   "execution_count": 3,
   "id": "82247edb",
   "metadata": {},
   "outputs": [
    {
     "data": {
      "text/plain": [
       "'ahSakO'"
      ]
     },
     "execution_count": 3,
     "metadata": {},
     "output_type": "execute_result"
    }
   ],
   "source": [
    "def string(s):\n",
    "    return s[::-1]\n",
    "string(\"OkaSha\")\n"
   ]
  },
  {
   "cell_type": "code",
   "execution_count": 10,
   "id": "024ade59",
   "metadata": {},
   "outputs": [
    {
     "name": "stdout",
     "output_type": "stream",
     "text": [
      "Enter the number:7\n",
      "Factorial of the number is:  5040\n"
     ]
    }
   ],
   "source": [
    "# TASK 3\n",
    "# FACTORIAL\n",
    "def Factorial():\n",
    "    n=int(input(\"Enter the number:\"))\n",
    "    Factorial=1\n",
    "    while(n>0):\n",
    "        Factorial=Factorial*n\n",
    "        n=n-1\n",
    "    print(\"Factorial of the number is: \",Factorial)\n",
    "Factorial()"
   ]
  },
  {
   "cell_type": "code",
   "execution_count": 12,
   "id": "b2b306ef",
   "metadata": {},
   "outputs": [
    {
     "name": "stdout",
     "output_type": "stream",
     "text": [
      "Adding of 2 Tuple (1, 2, 3, 4, 3, 5, 6, 7, 8, 2)\n",
      "Selective area of Tuple 1 (2, 3, 4, 3)\n",
      "Reverse of Tuple 2 (2, 8, 7, 6, 5)\n",
      "Enter a number you want to find: 1\n",
      "Found\n"
     ]
    }
   ],
   "source": [
    "# TASK 4\n",
    "# MANUALS TASK\n",
    "tpl1=(1,2,3,4,3)\n",
    "\n",
    "tpl2=(5,6,7,8,2)\n",
    "\n",
    "newtpl= tpl1 + tpl2\n",
    "\n",
    "print(\"Adding of 2 Tuple\",newtpl)\n",
    "\n",
    "print(\"Selective area of Tuple 1\",tpl1[1:])\n",
    "\n",
    "print(\"Reverse of Tuple 2\", tpl2[::-1])\n",
    "\n",
    "a=int(input(\"Enter a number you want to find: \"))\n",
    "if a in newtpl:\n",
    "    print(\"Found\")\n",
    "else:\n",
    "    print(\"Not Found\")"
   ]
  },
  {
   "cell_type": "code",
   "execution_count": 33,
   "id": "ffdb6b89",
   "metadata": {},
   "outputs": [
    {
     "name": "stdout",
     "output_type": "stream",
     "text": [
      "CC\n",
      "[3.0, 2.65, 1.72]\n",
      "['CC', 'AI', 'ML', 'GPA', 3.0, 2.65, 1.72, 2.12]\n"
     ]
    }
   ],
   "source": [
    "l1 = [\"CC\", \"AI\" ,\"ML\"]\n",
    "l2 = [\"GPA\",3.0, 2.65, 1.72, 2.12 ]\n",
    "print (l1 [0])\n",
    "print (l2 [1:4])\n",
    "print(l1+l2)"
   ]
  },
  {
   "cell_type": "code",
   "execution_count": null,
   "id": "f03b9258",
   "metadata": {},
   "outputs": [],
   "source": []
  }
 ],
 "metadata": {
  "kernelspec": {
   "display_name": "Python 3 (ipykernel)",
   "language": "python",
   "name": "python3"
  },
  "language_info": {
   "codemirror_mode": {
    "name": "ipython",
    "version": 3
   },
   "file_extension": ".py",
   "mimetype": "text/x-python",
   "name": "python",
   "nbconvert_exporter": "python",
   "pygments_lexer": "ipython3",
   "version": "3.9.12"
  }
 },
 "nbformat": 4,
 "nbformat_minor": 5
}
