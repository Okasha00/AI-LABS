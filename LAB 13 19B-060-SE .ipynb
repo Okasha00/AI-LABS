{
 "cells": [
  {
   "cell_type": "code",
   "execution_count": 4,
   "id": "1d0905f0",
   "metadata": {},
   "outputs": [
    {
     "name": "stdout",
     "output_type": "stream",
     "text": [
      "Weather [2 2 0 1 1 1 0 2 2 1 2 0 0 1]\n",
      "Temp: [1 1 1 2 0 2 0 2 0 2 2 2 1 2]\n",
      "Play: [0 0 1 1 1 0 1 0 1 1 1 1 1 0]\n",
      "Predicted Value: [1]\n"
     ]
    }
   ],
   "source": [
    "#TASK 1\n",
    "import pandas as pd, scipy, numpy as np\n",
    "from sklearn.preprocessing import MinMaxScaler, LabelEncoder\n",
    "from sklearn.naive_bayes import GaussianNB\n",
    "\n",
    "\n",
    "ds = pd.read_csv('weathertemp.csv')\n",
    "x = ds.iloc[:,0:2].values\n",
    "y = ds.iloc[:,2].values\n",
    "\n",
    "le = LabelEncoder()\n",
    "x[:,0] = le.fit_transform(x[:,0])\n",
    "x[:,1] = le.fit_transform(x[:,1])\n",
    "y = le.fit_transform(y)\n",
    "print(\"Weather\", x[:,0])\n",
    "print(\"Temp:\", x[:,1])\n",
    "print(\"Play:\", y)\n",
    "\n",
    "model = GaussianNB()\n",
    "model.fit(x,y)\n",
    "predict = model.predict([[0,1]])\n",
    "print(\"Predicted Value:\",predict)\n"
   ]
  },
  {
   "cell_type": "code",
   "execution_count": 5,
   "id": "6469ead6",
   "metadata": {},
   "outputs": [
    {
     "name": "stdout",
     "output_type": "stream",
     "text": [
      "Predicted Value: 686\n"
     ]
    },
    {
     "ename": "ValueError",
     "evalue": "Found input variables with inconsistent numbers of samples: [220, 686]",
     "output_type": "error",
     "traceback": [
      "\u001b[1;31m---------------------------------------------------------------------------\u001b[0m",
      "\u001b[1;31mValueError\u001b[0m                                Traceback (most recent call last)",
      "Input \u001b[1;32mIn [5]\u001b[0m, in \u001b[0;36m<cell line: 28>\u001b[1;34m()\u001b[0m\n\u001b[0;32m     25\u001b[0m Y_pred2 \u001b[38;5;241m=\u001b[39m model\u001b[38;5;241m.\u001b[39mpredict(X_test2)\n\u001b[0;32m     26\u001b[0m \u001b[38;5;28mprint\u001b[39m(\u001b[38;5;124m\"\u001b[39m\u001b[38;5;124mPredicted Value:\u001b[39m\u001b[38;5;124m\"\u001b[39m,\u001b[38;5;28mlen\u001b[39m(y_pred))\n\u001b[1;32m---> 28\u001b[0m CM \u001b[38;5;241m=\u001b[39m \u001b[43mconfusion_matrix\u001b[49m\u001b[43m(\u001b[49m\u001b[43my_test\u001b[49m\u001b[43m,\u001b[49m\u001b[43m \u001b[49m\u001b[43my_pred\u001b[49m\u001b[43m)\u001b[49m\n\u001b[0;32m     29\u001b[0m CM \u001b[38;5;241m=\u001b[39m confusion_matrix(y_test1, y_pred1)\n\u001b[0;32m     30\u001b[0m CM \u001b[38;5;241m=\u001b[39m confusion_matrix(y_test2, y_pred2)\n",
      "File \u001b[1;32m~\\anaconda3\\lib\\site-packages\\sklearn\\metrics\\_classification.py:307\u001b[0m, in \u001b[0;36mconfusion_matrix\u001b[1;34m(y_true, y_pred, labels, sample_weight, normalize)\u001b[0m\n\u001b[0;32m    222\u001b[0m \u001b[38;5;28;01mdef\u001b[39;00m \u001b[38;5;21mconfusion_matrix\u001b[39m(\n\u001b[0;32m    223\u001b[0m     y_true, y_pred, \u001b[38;5;241m*\u001b[39m, labels\u001b[38;5;241m=\u001b[39m\u001b[38;5;28;01mNone\u001b[39;00m, sample_weight\u001b[38;5;241m=\u001b[39m\u001b[38;5;28;01mNone\u001b[39;00m, normalize\u001b[38;5;241m=\u001b[39m\u001b[38;5;28;01mNone\u001b[39;00m\n\u001b[0;32m    224\u001b[0m ):\n\u001b[0;32m    225\u001b[0m     \u001b[38;5;124;03m\"\"\"Compute confusion matrix to evaluate the accuracy of a classification.\u001b[39;00m\n\u001b[0;32m    226\u001b[0m \n\u001b[0;32m    227\u001b[0m \u001b[38;5;124;03m    By definition a confusion matrix :math:`C` is such that :math:`C_{i, j}`\u001b[39;00m\n\u001b[1;32m   (...)\u001b[0m\n\u001b[0;32m    305\u001b[0m \u001b[38;5;124;03m    (0, 2, 1, 1)\u001b[39;00m\n\u001b[0;32m    306\u001b[0m \u001b[38;5;124;03m    \"\"\"\u001b[39;00m\n\u001b[1;32m--> 307\u001b[0m     y_type, y_true, y_pred \u001b[38;5;241m=\u001b[39m \u001b[43m_check_targets\u001b[49m\u001b[43m(\u001b[49m\u001b[43my_true\u001b[49m\u001b[43m,\u001b[49m\u001b[43m \u001b[49m\u001b[43my_pred\u001b[49m\u001b[43m)\u001b[49m\n\u001b[0;32m    308\u001b[0m     \u001b[38;5;28;01mif\u001b[39;00m y_type \u001b[38;5;129;01mnot\u001b[39;00m \u001b[38;5;129;01min\u001b[39;00m (\u001b[38;5;124m\"\u001b[39m\u001b[38;5;124mbinary\u001b[39m\u001b[38;5;124m\"\u001b[39m, \u001b[38;5;124m\"\u001b[39m\u001b[38;5;124mmulticlass\u001b[39m\u001b[38;5;124m\"\u001b[39m):\n\u001b[0;32m    309\u001b[0m         \u001b[38;5;28;01mraise\u001b[39;00m \u001b[38;5;167;01mValueError\u001b[39;00m(\u001b[38;5;124m\"\u001b[39m\u001b[38;5;132;01m%s\u001b[39;00m\u001b[38;5;124m is not supported\u001b[39m\u001b[38;5;124m\"\u001b[39m \u001b[38;5;241m%\u001b[39m y_type)\n",
      "File \u001b[1;32m~\\anaconda3\\lib\\site-packages\\sklearn\\metrics\\_classification.py:84\u001b[0m, in \u001b[0;36m_check_targets\u001b[1;34m(y_true, y_pred)\u001b[0m\n\u001b[0;32m     57\u001b[0m \u001b[38;5;28;01mdef\u001b[39;00m \u001b[38;5;21m_check_targets\u001b[39m(y_true, y_pred):\n\u001b[0;32m     58\u001b[0m     \u001b[38;5;124;03m\"\"\"Check that y_true and y_pred belong to the same classification task.\u001b[39;00m\n\u001b[0;32m     59\u001b[0m \n\u001b[0;32m     60\u001b[0m \u001b[38;5;124;03m    This converts multiclass or binary types to a common shape, and raises a\u001b[39;00m\n\u001b[1;32m   (...)\u001b[0m\n\u001b[0;32m     82\u001b[0m \u001b[38;5;124;03m    y_pred : array or indicator matrix\u001b[39;00m\n\u001b[0;32m     83\u001b[0m \u001b[38;5;124;03m    \"\"\"\u001b[39;00m\n\u001b[1;32m---> 84\u001b[0m     \u001b[43mcheck_consistent_length\u001b[49m\u001b[43m(\u001b[49m\u001b[43my_true\u001b[49m\u001b[43m,\u001b[49m\u001b[43m \u001b[49m\u001b[43my_pred\u001b[49m\u001b[43m)\u001b[49m\n\u001b[0;32m     85\u001b[0m     type_true \u001b[38;5;241m=\u001b[39m type_of_target(y_true)\n\u001b[0;32m     86\u001b[0m     type_pred \u001b[38;5;241m=\u001b[39m type_of_target(y_pred)\n",
      "File \u001b[1;32m~\\anaconda3\\lib\\site-packages\\sklearn\\utils\\validation.py:332\u001b[0m, in \u001b[0;36mcheck_consistent_length\u001b[1;34m(*arrays)\u001b[0m\n\u001b[0;32m    330\u001b[0m uniques \u001b[38;5;241m=\u001b[39m np\u001b[38;5;241m.\u001b[39munique(lengths)\n\u001b[0;32m    331\u001b[0m \u001b[38;5;28;01mif\u001b[39;00m \u001b[38;5;28mlen\u001b[39m(uniques) \u001b[38;5;241m>\u001b[39m \u001b[38;5;241m1\u001b[39m:\n\u001b[1;32m--> 332\u001b[0m     \u001b[38;5;28;01mraise\u001b[39;00m \u001b[38;5;167;01mValueError\u001b[39;00m(\n\u001b[0;32m    333\u001b[0m         \u001b[38;5;124m\"\u001b[39m\u001b[38;5;124mFound input variables with inconsistent numbers of samples: \u001b[39m\u001b[38;5;132;01m%r\u001b[39;00m\u001b[38;5;124m\"\u001b[39m\n\u001b[0;32m    334\u001b[0m         \u001b[38;5;241m%\u001b[39m [\u001b[38;5;28mint\u001b[39m(l) \u001b[38;5;28;01mfor\u001b[39;00m l \u001b[38;5;129;01min\u001b[39;00m lengths]\n\u001b[0;32m    335\u001b[0m     )\n",
      "\u001b[1;31mValueError\u001b[0m: Found input variables with inconsistent numbers of samples: [220, 686]"
     ]
    }
   ],
   "source": [
    "#TASK 2\n",
    "import pandas as pd\n",
    "from sklearn.naive_bayes import GaussianNB\n",
    "from sklearn.model_selection import train_test_split\n",
    "from sklearn.metrics import confusion_matrix\n",
    "import matplotlib.pyplot as plt\n",
    "import seaborn as sns\n",
    "from sklearn.model_selection import cross_val_score\n",
    "\n",
    "\n",
    "ds = pd.read_csv('dermatology_database_1.csv', na_values='?')\n",
    "new_ds = ds.fillna(ds.mean(), inplace=True)\n",
    "ds['age'] = ds['age'].astype(int)\n",
    "# print(ds.head(50))\n",
    "X = ds.drop('class', axis=1)\n",
    "Y = ds['class']\n",
    "X_train, X_test, y_train, y_test = train_test_split(X, Y, test_size=0.6, random_state=42)\n",
    "X_train1, X_test1, Y_train1, Y_test1 = train_test_split(X, Y, test_size=0.7, random_state=42)\n",
    "X_train2, X_test2, Y_train2, Y_test2 = train_test_split(X, Y, test_size=0.8, random_state=42)\n",
    "\n",
    "model = GaussianNB()\n",
    "model.fit(X_train,y_train)\n",
    "Y_pred = model.predict(X_test)\n",
    "Y_pred1 = model.predict(X_test1)\n",
    "Y_pred2 = model.predict(X_test2)\n",
    "print(\"Predicted Value:\",len(y_pred))\n",
    "\n",
    "CM = confusion_matrix(y_test, y_pred)\n",
    "CM = confusion_matrix(y_test1, y_pred1)\n",
    "CM = confusion_matrix(y_test2, y_pred2)\n",
    "plt.figure(figsize=(5, 5))\n",
    "sns.heatmap(cm, cmap=\"Blues\")\n",
    "plt.show()\n",
    "\n",
    "main_lst = []\n",
    "for i in range(5,20):\n",
    "    lst = []\n",
    "    scores = cross_val_score(model, x, y, cv=i)\n",
    "    lst.extend([scores.mean(),i])\n",
    "    main_lst.append(lst)\n",
    "print(main_lst)\n",
    "\n",
    "max_value = 0.0\n",
    "max_i = None\n",
    "\n",
    "for i in main_lst:\n",
    "    if i[0] > max_value:\n",
    "        max_value = i[0]\n",
    "        max_i = i\n",
    "\n",
    "print(max_i)"
   ]
  },
  {
   "cell_type": "code",
   "execution_count": 4,
   "id": "959fa6b1",
   "metadata": {},
   "outputs": [
    {
     "name": "stdout",
     "output_type": "stream",
     "text": [
      "variance    0\n",
      "skewness    0\n",
      "curtosis    0\n",
      "entropy     0\n",
      "class       0\n",
      "dtype: int64\n",
      "Predicted Value: 686\n",
      "Predicted Value: 961\n",
      "Predicted Value: 1235\n",
      "Accuracy 1.0\n",
      "Accuracy 0.9947970863683663\n",
      "Accuracy 0.9967611336032388\n"
     ]
    },
    {
     "data": {
      "image/png": "[encoded data removed]",
      "text/plain": [
       "<Figure size 360x360 with 2 Axes>"
      ]
     },
     "metadata": {
      "needs_background": "light"
     },
     "output_type": "display_data"
    },
    {
     "name": "stdout",
     "output_type": "stream",
     "text": [
      "[[0.9978128732581286, 5], [0.9963577976965704, 6], [0.9970845481049563, 7], [0.9963492792057663, 8], [0.9970808011313687, 9], [0.9963503649635037, 10], [0.9970850439882697, 11], [0.9963513857106534, 12], [0.9970765083972631, 13], [0.9963556851311954, 14], [0.9970775601210384, 15], [0.9970844733242135, 16], [0.9970860566448801, 17], [0.9970760233918128, 18], [0.996345029239766, 19]]\n",
      "[0.9978128732581286, 5]\n"
     ]
    }
   ],
   "source": [
    "#TASK 3\n",
    "import pandas as pd\n",
    "from sklearn.metrics import confusion_matrix\n",
    "import matplotlib.pyplot as plt\n",
    "import seaborn as sns\n",
    "from sklearn.model_selection import cross_val_score\n",
    "from sklearn.model_selection import train_test_split\n",
    "from sklearn.svm import SVC\n",
    "from sklearn.metrics import accuracy_score\n",
    "\n",
    "\n",
    "ds = pd.read_csv('BankNote_Authentication.csv')\n",
    "\n",
    "print(ds.isna().sum())\n",
    "x = ds.drop('class',axis=1)\n",
    "y = ds['class']\n",
    "\n",
    "X_train, X_test, y_train, y_test = train_test_split(x, y, test_size=0.5)\n",
    "X_train1, X_test1, y_train1, y_test1 = train_test_split(x, y, test_size=0.7)\n",
    "X_train2, X_test2, y_train2, y_test2 = train_test_split(x, y, test_size=0.9)\n",
    "\n",
    "\n",
    "model = SVC(kernel='rbf')\n",
    "model.fit(X_train,y_train)\n",
    "y_pred = model.predict(X_test)\n",
    "y_pred1 = model.predict(X_test1)\n",
    "y_pred2 = model.predict(X_test2)\n",
    "print(\"Predicted Value:\",len(y_pred))\n",
    "print(\"Predicted Value:\",len(y_pred1))\n",
    "print(\"Predicted Value:\",len(y_pred2))\n",
    "accuracy = accuracy_score(y_test, y_pred)\n",
    "accuracy1 = accuracy_score(y_test1, y_pred1)\n",
    "accuracy2 = accuracy_score(y_test2, y_pred2)\n",
    "\n",
    "print(\"Accuracy\", accuracy)\n",
    "print(\"Accuracy\", accuracy1)\n",
    "print(\"Accuracy\", accuracy2)\n",
    "\n",
    "CM = confusion_matrix(y_test, y_pred)\n",
    "CM= confusion_matrix(y_test1, y_pred1)\n",
    "CM = confusion_matrix(y_test2, y_pred2)\n",
    "plt.figure(figsize=(5, 5))\n",
    "sns.heatmap(cm, cmap=\"Blues\")\n",
    "plt.show()\n",
    "\n",
    "main_lst = []\n",
    "for i in range(5,20):\n",
    "    lst = []\n",
    "    scores = cross_val_score(model, x, y, cv=i)\n",
    "    lst.extend([scores.mean(),i])\n",
    "    main_lst.append(lst)\n",
    "print(main_lst)\n",
    "\n",
    "max_value = 0.0\n",
    "max_i = None\n",
    "\n",
    "for i in main_lst:\n",
    "    if i[0] > max_value:\n",
    "        max_value = i[0]\n",
    "        max_i = i\n",
    "\n",
    "print(max_i)\n",
    "plt.show()\n"
   ]
  },
  {
   "cell_type": "code",
   "execution_count": null,
   "id": "60f786c0",
   "metadata": {},
   "outputs": [],
   "source": []
  }
 ],
 "metadata": {
  "kernelspec": {
   "display_name": "Python 3 (ipykernel)",
   "language": "python",
   "name": "python3"
  },
  "language_info": {
   "codemirror_mode": {
    "name": "ipython",
    "version": 3
   },
   "file_extension": ".py",
   "mimetype": "text/x-python",
   "name": "python",
   "nbconvert_exporter": "python",
   "pygments_lexer": "ipython3",
   "version": "3.9.12"
  }
 },
 "nbformat": 4,
 "nbformat_minor": 5
}
